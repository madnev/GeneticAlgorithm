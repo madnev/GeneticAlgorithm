{
 "cells": [
  {
   "cell_type": "markdown",
   "id": "50251ef4-3eae-434e-b58d-af4ebf107399",
   "metadata": {},
   "source": [
    "<a id='index'></a>\n",
    "# __Feature Selection with Genetic Function Approximation (GFA)__\n",
    "\n",
    "### Contents:\n",
    "* [Loading Data](#data)\n",
    "* [Auxiliar Functions](#functions)\n",
    "* [GFA](#gfa)"
   ]
  },
  {
   "cell_type": "markdown",
   "id": "e8dd10da-86db-4e8e-84a3-fc886f43162b",
   "metadata": {},
   "source": [
    "----------------\n",
    "<a id='data'></a>\n",
    "## __Loading Data__\n",
    "[Back To Top](#index)"
   ]
  },
  {
   "cell_type": "code",
   "execution_count": 21,
   "id": "1b48b697-94ef-4a88-8047-605757a96ca0",
   "metadata": {},
   "outputs": [
    {
     "data": {
      "text/html": [
       "<div>\n",
       "<style scoped>\n",
       "    .dataframe tbody tr th:only-of-type {\n",
       "        vertical-align: middle;\n",
       "    }\n",
       "\n",
       "    .dataframe tbody tr th {\n",
       "        vertical-align: top;\n",
       "    }\n",
       "\n",
       "    .dataframe thead th {\n",
       "        text-align: right;\n",
       "    }\n",
       "</style>\n",
       "<table border=\"1\" class=\"dataframe\">\n",
       "  <thead>\n",
       "    <tr style=\"text-align: right;\">\n",
       "      <th></th>\n",
       "      <th>x1</th>\n",
       "      <th>x2</th>\n",
       "      <th>x3</th>\n",
       "      <th>x4</th>\n",
       "      <th>y</th>\n",
       "    </tr>\n",
       "  </thead>\n",
       "  <tbody>\n",
       "    <tr>\n",
       "      <th>0</th>\n",
       "      <td>0.0</td>\n",
       "      <td>2.318975</td>\n",
       "      <td>0.000000</td>\n",
       "      <td>0.000000</td>\n",
       "      <td>1.96</td>\n",
       "    </tr>\n",
       "    <tr>\n",
       "      <th>1</th>\n",
       "      <td>0.0</td>\n",
       "      <td>3.320746</td>\n",
       "      <td>0.000000</td>\n",
       "      <td>0.000000</td>\n",
       "      <td>8.35</td>\n",
       "    </tr>\n",
       "    <tr>\n",
       "      <th>2</th>\n",
       "      <td>0.0</td>\n",
       "      <td>1.136464</td>\n",
       "      <td>1.510941</td>\n",
       "      <td>0.667490</td>\n",
       "      <td>11.90</td>\n",
       "    </tr>\n",
       "    <tr>\n",
       "      <th>3</th>\n",
       "      <td>0.0</td>\n",
       "      <td>1.241205</td>\n",
       "      <td>1.494163</td>\n",
       "      <td>0.678460</td>\n",
       "      <td>11.43</td>\n",
       "    </tr>\n",
       "    <tr>\n",
       "      <th>4</th>\n",
       "      <td>0.0</td>\n",
       "      <td>0.553377</td>\n",
       "      <td>0.357283</td>\n",
       "      <td>0.162193</td>\n",
       "      <td>6.41</td>\n",
       "    </tr>\n",
       "  </tbody>\n",
       "</table>\n",
       "</div>"
      ],
      "text/plain": [
       "    x1        x2        x3        x4      y\n",
       "0  0.0  2.318975  0.000000  0.000000   1.96\n",
       "1  0.0  3.320746  0.000000  0.000000   8.35\n",
       "2  0.0  1.136464  1.510941  0.667490  11.90\n",
       "3  0.0  1.241205  1.494163  0.678460  11.43\n",
       "4  0.0  0.553377  0.357283  0.162193   6.41"
      ]
     },
     "execution_count": 21,
     "metadata": {},
     "output_type": "execute_result"
    }
   ],
   "source": [
    "from sklearn.metrics import mean_squared_error\n",
    "import pandas as pd\n",
    "import numpy as np\n",
    "import time\n",
    "import seaborn as sns\n",
    "import warnings\n",
    "from statsmodels import api\n",
    "import math\n",
    "from scipy.optimize import minimize\n",
    "import scipy.stats as stats\n",
    "import pandas as pd\n",
    "import statsmodels. api as sm\n",
    "import matplotlib.pyplot as plt\n",
    "import random\n",
    "random.seed(42)\n",
    "from random import choices, randint, randrange\n",
    "\n",
    "from sklearn.preprocessing import StandardScaler\n",
    "\n",
    "warnings.filterwarnings('ignore')\n",
    "\n",
    "data = pd.read_excel('data.xlsx')\n",
    "data.head()"
   ]
  },
  {
   "cell_type": "code",
   "execution_count": 22,
   "id": "9078deed-9cba-48f4-a88b-146320e520c9",
   "metadata": {},
   "outputs": [
    {
     "name": "stdout",
     "output_type": "stream",
     "text": [
      "Data:  (26, 11)\n",
      "X:  (26, 10)\n",
      "y:  (26,)\n"
     ]
    },
    {
     "data": {
      "text/plain": [
       "array([ 1.96 ,  8.35 , 11.9  , 11.43 ,  6.41 , 10.88 , 23.4  ,  4.04 ,\n",
       "       20.925,  1.05 , 13.8  ,  6.44 ,  9.02 ,  0.08 ,  0.97 ,  3.58 ,\n",
       "        0.75 ,  6.6  ,  6.6  , 12.4  , 13.6  , 22.7  , 22.3  , 34.6  ,\n",
       "       23.4  , 14.26 ])"
      ]
     },
     "execution_count": 22,
     "metadata": {},
     "output_type": "execute_result"
    }
   ],
   "source": [
    "ingredients = ['x1', 'x2','x3', 'x4']\n",
    "properties = ['y']\n",
    "\n",
    "# Removing Outliers\n",
    "z = np.abs(stats.zscore(data))\n",
    "data = data[(z<3).all(axis=1)]\n",
    "\n",
    "# Defining Interaction Terms\n",
    "intercationterms = []\n",
    "for i in range(len(ingredients)):\n",
    "    for t in ingredients[i+1:]:\n",
    "        term = f\"{ingredients[i]}*{t}\"\n",
    "        intercationterms.append(term)\n",
    "        data[term] = data[ingredients[i]] * data[t]\n",
    "\n",
    "cols = list(data.columns)\n",
    "cols.remove('y')\n",
    "\n",
    "X = data[cols]\n",
    "y = data['y']\n",
    "\n",
    "print(\"Data: \", data.shape)\n",
    "print(\"X: \", X.shape)\n",
    "print(\"y: \", y.shape)\n",
    "\n",
    "X.to_numpy()\n",
    "y.to_numpy()"
   ]
  },
  {
   "cell_type": "code",
   "execution_count": 23,
   "id": "de39dfb3-1623-452a-937d-62a68b720841",
   "metadata": {},
   "outputs": [],
   "source": [
    "censors = {'y': [0, +math.inf]}\n",
    "\n",
    "l_censor=censors['y'][1]\n",
    "r_censor=censors['y'][0]"
   ]
  },
  {
   "cell_type": "markdown",
   "id": "69289efb-4d33-4796-ad19-b8764c3b87a4",
   "metadata": {},
   "source": [
    "--------------------\n",
    "<a id='functions'></a>\n",
    "## __Auxiliar Functions__\n",
    "[Back To Top](#index)"
   ]
  },
  {
   "cell_type": "markdown",
   "id": "6dea4f56-6d1e-4995-bfd5-1170242dab50",
   "metadata": {},
   "source": [
    "### __Maximum Likelihood Estimation__"
   ]
  },
  {
   "cell_type": "code",
   "execution_count": 24,
   "id": "65311817-c0ab-40d7-b0d7-2a5d70e1ca19",
   "metadata": {},
   "outputs": [],
   "source": [
    "def mylnPhi_aux(xs):\n",
    "    return -0.5*xs*xs - np.log(abs(xs)*math.sqrt(0.125*math.pi))\n",
    "\n",
    "# For right censored data\n",
    "def mylnPhi(x, cut=-30):\n",
    "    const = np.log(stats.norm.cdf(cut))-mylnPhi_aux(cut)\n",
    "    smaller_cut = x < cut\n",
    "    y = np.full((len(x)), np.nan)\n",
    "    if any(smaller_cut):\n",
    "        y[smaller_cut] = const + mylnPhi_aux(x[smaller_cut])\n",
    "    if any(~smaller_cut):\n",
    "        y[~smaller_cut] = np.log(stats.norm.cdf(x[~smaller_cut]))\n",
    "    return y\n",
    "\n",
    "# For left censored data\n",
    "def myln1_Phi(x, cut=7):\n",
    "    const = np.log(stats.norm.cdf(-cut)) - mylnPhi_aux(cut)\n",
    "    larger_cut = x > cut\n",
    "    y = np.full((len(x)), np.nan)\n",
    "    if any(larger_cut):\n",
    "        y[larger_cut] = const + mylnPhi_aux(x[larger_cut])\n",
    "    if any(~larger_cut):\n",
    "        y[~larger_cut] = np.log(1 - stats.norm.cdf(x[~larger_cut]))\n",
    "    return y\n",
    "\n",
    "def logli(theta, y, X, left_censor=+math.inf, right_censor=-math.inf):\n",
    "    right_censored = y <= right_censor\n",
    "    left_censored = y >= left_censor\n",
    "    non_censored = (~right_censored) & (~left_censored)\n",
    "    sigma = theta[0]\n",
    "    betas = theta[1:]\n",
    "    mus = betas[0] + np.dot(X,betas[1:])\n",
    "    rv = -sum(non_censored)*(0.9189385 + math.log(sigma))\n",
    "    # 0.5*log(2*pi) ~ 0.9189385\n",
    "    inv_sigma = 1/sigma\n",
    "\n",
    "    if any(non_censored):\n",
    "        res = y[non_censored] - mus[non_censored]\n",
    "        res = res*inv_sigma\n",
    "        rv = rv - 0.5*sum(res*res)\n",
    "\n",
    "    if any(right_censored):\n",
    "        res = y[right_censored] - mus[right_censored]\n",
    "        res = res*inv_sigma\n",
    "        rv = rv + sum(mylnPhi(res))\n",
    "\n",
    "    if any(left_censored):\n",
    "        res = y[left_censored] - mus[left_censored]\n",
    "        res = res*inv_sigma\n",
    "        rv = rv + sum(myln1_Phi(res))\n",
    "\n",
    "    return -rv"
   ]
  },
  {
   "cell_type": "code",
   "execution_count": 25,
   "id": "dd9564c6-f91c-4a18-a46a-beb2d32b7b71",
   "metadata": {},
   "outputs": [],
   "source": [
    "def MLE(X, y):\n",
    "    # Getting initial guess for the parameters\n",
    "    features = api.add_constant(X)\n",
    "    model = api.OLS(y, features).fit()\n",
    "    res = model.resid\n",
    "    standard_dev = np.std(res)\n",
    "    \n",
    "    n_fs=len(X.T)\n",
    "    \n",
    "    #theta = np.arange(1, nr_col+2+1, 1), one param for each column, one for const, one sigma\n",
    "    theta = np.full(n_fs+2, standard_dev)\n",
    "    \n",
    "    bnds = [(0.0001, math.inf)] + [(-math.inf, math.inf) for i in range(n_fs+1)]\n",
    "    \n",
    "    loglipar = minimize(logli,\n",
    "                    theta,\n",
    "                    args=(y, X, l_censor, r_censor),\n",
    "                    method = 'L-BFGS-B',\n",
    "                    bounds=bnds,\n",
    "                    options={\"maxiter\":10000}\n",
    "                   )\n",
    "    return loglipar"
   ]
  },
  {
   "cell_type": "markdown",
   "id": "3ebb15b3-e44b-4dc7-948b-04fa285110ca",
   "metadata": {},
   "source": [
    "### __AIC, AICC, and BIC__"
   ]
  },
  {
   "cell_type": "code",
   "execution_count": 26,
   "id": "fe42eb3f-ea24-4b0f-8cab-51ebc826c14c",
   "metadata": {},
   "outputs": [],
   "source": [
    "# K - num of parameters = num feats + constant + sigma\n",
    "# LL - log likelihood\n",
    "# n - number of obs\n",
    "def aic_function(n_fs, LL):\n",
    "    k = n_fs + 2\n",
    "    return 2*k -2*LL\n",
    "\n",
    "def aicc_function(n_fs, LL, n):\n",
    "    k = n_fs+2\n",
    "    return aic_function(k,LL) + ((2*k**2 + 2*k)/(n-k-1))\n",
    "\n",
    "def bic_function(n_fs, LL, n):\n",
    "    k = n_fs + 2\n",
    "    return k*np.log(n) - 2*LL"
   ]
  },
  {
   "cell_type": "markdown",
   "id": "e63fe35e-04ea-4d09-9c01-1819a393b25d",
   "metadata": {},
   "source": [
    "--------------------\n",
    "<a id='gfa'></a>\n",
    "## __Genetic Function Approximation (GFA)__\n",
    "[Back To Top](#index)"
   ]
  },
  {
   "cell_type": "markdown",
   "id": "0cba3d3c-f468-4392-b0a2-f4e6284af66f",
   "metadata": {},
   "source": [
    "### __Auxiliar Functions__"
   ]
  },
  {
   "cell_type": "code",
   "execution_count": 27,
   "id": "414ebf12-0e6c-4ae6-a8f4-831962a943a9",
   "metadata": {},
   "outputs": [],
   "source": [
    "# Step 1: generate genome\n",
    "def generate_genome(length: int): \n",
    "    return choices([True,False], k=length)\n",
    "\n",
    "# Step 2: generate population of genomes\n",
    "def generate_population(population_size: int, genome_length:int):\n",
    "    return [generate_genome(genome_length) for _ in range(population_size)]\n",
    "\n",
    "# Step 3: generate fitness function\n",
    "def fitness(genome, X, y, method=\"AIC\"):\n",
    "    \n",
    "    cut_X = X[X.columns[genome]]\n",
    "    \n",
    "    neg_LL_model = MLE(cut_X, y)\n",
    "    \n",
    "    n_fs = len(cut_X.T)\n",
    "    LL = -neg_LL_model.fun\n",
    "    n = len(cut_X)\n",
    "    \n",
    "    if method == \"AIC\":\n",
    "        score = aic_function(n_fs, LL)\n",
    "        \n",
    "    elif method == \"AICc\":\n",
    "        score = aicc_function(n_fs, LL, n)\n",
    "        \n",
    "    if method == \"BIC\":\n",
    "        score = bic_function(n_fs, LL, n)\n",
    "        \n",
    "    return score\n",
    "\n",
    "# Step 4: selection function\n",
    "def select_pair(population, fitness):\n",
    "    return choices(\n",
    "        population=population,\n",
    "        weights = [fitness(genome, X, y) for genome in population],\n",
    "        k=2 # draw twos to get a pair\n",
    "    )\n",
    "\n",
    "# Step 5: crossover function\n",
    "def single_point_crossover(a, b):\n",
    "    length = len(a)\n",
    "    if length <2:\n",
    "        return a,b\n",
    "    \n",
    "    p = randint(1, length -1)\n",
    "    return a[0:p] + b[p:], b[0:p] + a[p:]\n",
    "\n",
    "# Step 6: mutation function\n",
    "def mutation(genome, num: int=1, probability: float = 0.5):\n",
    "    for _ in range(num):\n",
    "        # choose a random index\n",
    "        index = randrange(len(genome))\n",
    "        \n",
    "        if random.random() > probability:\n",
    "            genome[index] = genome[index]  \n",
    "        else:\n",
    "            # genome1 = [True, False, True]\n",
    "            # genome1[0]=genome1[0]==False\n",
    "            # genome1[1]=genome1[1]==False\n",
    "            genome[index]=genome[index]==False\n",
    "    return genome"
   ]
  },
  {
   "cell_type": "markdown",
   "id": "c7935e81-4aaa-4747-b182-cda492a0276e",
   "metadata": {},
   "source": [
    "### __GFA Function__"
   ]
  },
  {
   "cell_type": "code",
   "execution_count": 28,
   "id": "cdf3d022-d51a-470a-8776-500d9cba2bbd",
   "metadata": {},
   "outputs": [],
   "source": [
    "def genetic_feature_selection(\n",
    "    X,\n",
    "    y,\n",
    "    generation_limit = 20,\n",
    "    population_size = 10,\n",
    "    scoring_method = \"AIC\",\n",
    "    mutation_func=mutation,\n",
    "    mutation = True,\n",
    "    elitism = True\n",
    "):\n",
    "    # first generation\n",
    "    population = generate_population(population_size, len(X.T))\n",
    "    \n",
    "    generation_fitness = []\n",
    "    \n",
    "    for i in range(generation_limit):\n",
    "        \n",
    "        print(f'=== Generation {i} ===')\n",
    "        population = sorted(population, key=lambda genome: fitness(genome, X, y, scoring_method))\n",
    "        \n",
    "        generation_fitness.append(fitness(population[0], X, y, scoring_method))\n",
    "        \n",
    "        if elitism == True:\n",
    "            next_generation = population[0:2] # keep top two solutions for next generation\n",
    "        \n",
    "            # loop for half of the generation\n",
    "            for j in range(int(len(population) / 2) - 1):\n",
    "                parents = select_pair(population, fitness)\n",
    "                offsprings = single_point_crossover(parents[0], parents[1])\n",
    "                \n",
    "                if mutation == True:\n",
    "                    offspring_a = mutation_func(offsprings[0])\n",
    "                    offspring_b = mutation_func(offsprings[1])\n",
    "                else:\n",
    "                    offspring_a = offsprings[0]\n",
    "                    offspring_b = offsprings[1]\n",
    "                    \n",
    "                next_generation += [offspring_a, offspring_b]\n",
    "        else:\n",
    "            # loop for half of the generation\n",
    "            for j in range(int(len(population) / 2)):\n",
    "                parents = select_pair(population, fitness)\n",
    "                offsprings = single_point_crossover(parents[0], parents[1])\n",
    "                \n",
    "                if mutation == True:\n",
    "                    offspring_a = mutation_func(offsprings[0])\n",
    "                    offspring_b = mutation_func(offsprings[1])\n",
    "                else:\n",
    "                    offspring_a = offsprings[0]\n",
    "                    offspring_b = offsprings[1]\n",
    "                    \n",
    "                next_generation += [offspring_a, offspring_b]\n",
    "                \n",
    "        population = next_generation\n",
    "        \n",
    "    population = sorted(\n",
    "        population,\n",
    "        key=lambda genome: fitness(genome, X, y, scoring_method),\n",
    "    )\n",
    "        \n",
    "    return population, generation_fitness"
   ]
  },
  {
   "cell_type": "code",
   "execution_count": 29,
   "id": "f87a7a43-63d5-4d62-98c7-423cc05db797",
   "metadata": {
    "tags": []
   },
   "outputs": [
    {
     "name": "stdout",
     "output_type": "stream",
     "text": [
      "=== Generation 0 ===\n",
      "=== Generation 1 ===\n",
      "=== Generation 2 ===\n",
      "=== Generation 3 ===\n",
      "=== Generation 4 ===\n",
      "=== Generation 5 ===\n",
      "=== Generation 6 ===\n",
      "=== Generation 7 ===\n",
      "=== Generation 8 ===\n",
      "=== Generation 9 ===\n",
      "=== Generation 10 ===\n",
      "=== Generation 11 ===\n",
      "=== Generation 12 ===\n",
      "=== Generation 13 ===\n",
      "=== Generation 14 ===\n",
      "=== Generation 15 ===\n",
      "=== Generation 16 ===\n",
      "=== Generation 17 ===\n",
      "=== Generation 18 ===\n",
      "=== Generation 19 ===\n",
      "Running Time:  524.1766064167023\n"
     ]
    }
   ],
   "source": [
    "start = time.time()\n",
    "\n",
    "gfa_20_10, scores_20_10 = genetic_feature_selection(X, y, generation_limit = 20, population_size = 10, mutation = True, elitism = True)\n",
    "\n",
    "end = time.time()\n",
    "\n",
    "print(\"Running Time: \", end - start)"
   ]
  },
  {
   "cell_type": "code",
   "execution_count": 30,
   "id": "579197eb-0464-4872-9350-c0b51d7898ac",
   "metadata": {},
   "outputs": [
    {
     "name": "stdout",
     "output_type": "stream",
     "text": [
      "Best genome:  [True, False, True, True, True, True, False, False, True, False]\n",
      "Fitness of best genome:  173.02611639846614\n"
     ]
    }
   ],
   "source": [
    "print(\"Best genome: \", gfa_20_10[0])\n",
    "print(\"Fitness of best genome: \", scores_20_10[-1])"
   ]
  },
  {
   "cell_type": "code",
   "execution_count": 31,
   "id": "89269e3e-efdf-45a6-b42d-807e9a2053dd",
   "metadata": {},
   "outputs": [
    {
     "data": {
      "image/png": "[encoded data removed]",
      "text/plain": [
       "<Figure size 432x288 with 1 Axes>"
      ]
     },
     "metadata": {
      "needs_background": "light"
     },
     "output_type": "display_data"
    }
   ],
   "source": [
    "plt.plot([i+1 for i in range(len(scores_20_10))], scores_20_10, color = 'b')\n",
    "plt.xlabel('Generation')\n",
    "plt.ylabel('AIC score')\n",
    "plt.show()"
   ]
  },
  {
   "cell_type": "code",
   "execution_count": 32,
   "id": "df016c3b-63bc-49c1-9e1f-00d96269ecc8",
   "metadata": {},
   "outputs": [
    {
     "name": "stdout",
     "output_type": "stream",
     "text": [
      "=== Generation 0 ===\n",
      "=== Generation 1 ===\n",
      "=== Generation 2 ===\n",
      "=== Generation 3 ===\n",
      "=== Generation 4 ===\n",
      "=== Generation 5 ===\n",
      "=== Generation 6 ===\n",
      "=== Generation 7 ===\n",
      "=== Generation 8 ===\n",
      "=== Generation 9 ===\n",
      "=== Generation 10 ===\n",
      "=== Generation 11 ===\n",
      "=== Generation 12 ===\n",
      "=== Generation 13 ===\n",
      "=== Generation 14 ===\n",
      "=== Generation 15 ===\n",
      "=== Generation 16 ===\n",
      "=== Generation 17 ===\n",
      "=== Generation 18 ===\n",
      "=== Generation 19 ===\n",
      "=== Generation 20 ===\n",
      "=== Generation 21 ===\n",
      "=== Generation 22 ===\n",
      "=== Generation 23 ===\n",
      "=== Generation 24 ===\n",
      "=== Generation 25 ===\n",
      "=== Generation 26 ===\n",
      "=== Generation 27 ===\n",
      "=== Generation 28 ===\n",
      "=== Generation 29 ===\n",
      "=== Generation 30 ===\n",
      "=== Generation 31 ===\n",
      "=== Generation 32 ===\n",
      "=== Generation 33 ===\n",
      "=== Generation 34 ===\n",
      "=== Generation 35 ===\n",
      "=== Generation 36 ===\n",
      "=== Generation 37 ===\n",
      "=== Generation 38 ===\n",
      "=== Generation 39 ===\n",
      "=== Generation 40 ===\n",
      "=== Generation 41 ===\n",
      "=== Generation 42 ===\n",
      "=== Generation 43 ===\n",
      "=== Generation 44 ===\n",
      "=== Generation 45 ===\n",
      "=== Generation 46 ===\n",
      "=== Generation 47 ===\n",
      "=== Generation 48 ===\n",
      "=== Generation 49 ===\n",
      "Running Time:  4923.052433252335\n"
     ]
    }
   ],
   "source": [
    "start = time.time()\n",
    "\n",
    "gfa_50_20, scores_50_20 = genetic_feature_selection(X, y, generation_limit = 50, population_size = 20, mutation = True,elitism = True)\n",
    "\n",
    "end = time.time()\n",
    "\n",
    "print(\"Running Time: \", end - start)"
   ]
  },
  {
   "cell_type": "code",
   "execution_count": 33,
   "id": "1c51865f-753b-4455-aa3d-dde3c81bbc65",
   "metadata": {},
   "outputs": [
    {
     "name": "stdout",
     "output_type": "stream",
     "text": [
      "Best genome:  [True, False, True, False, True, True, False, False, True, False]\n",
      "Fitness of best genome:  171.0924359382567\n"
     ]
    }
   ],
   "source": [
    "print(\"Best genome: \", gfa_50_20[0])\n",
    "print(\"Fitness of best genome: \", scores_50_20[-1])"
   ]
  },
  {
   "cell_type": "code",
   "execution_count": 34,
   "id": "85208829-450d-4a85-b8c7-d573ecbcb51c",
   "metadata": {},
   "outputs": [
    {
     "data": {
      "image/png": "[encoded data removed]",
      "text/plain": [
       "<Figure size 432x288 with 1 Axes>"
      ]
     },
     "metadata": {
      "needs_background": "light"
     },
     "output_type": "display_data"
    }
   ],
   "source": [
    "plt.plot([i+1 for i in range(len(scores_50_20))], scores_50_20, color = 'b')\n",
    "plt.xlabel('Generation')\n",
    "plt.ylabel('AIC score')\n",
    "plt.show()"
   ]
  },
  {
   "cell_type": "code",
   "execution_count": 65,
   "id": "96c67666-2cd4-4562-8fca-1dc8dbe6e8ed",
   "metadata": {},
   "outputs": [
    {
     "name": "stdout",
     "output_type": "stream",
     "text": [
      "=== Generation 0 ===\n",
      "=== Generation 1 ===\n",
      "=== Generation 2 ===\n",
      "=== Generation 3 ===\n",
      "=== Generation 4 ===\n",
      "=== Generation 5 ===\n",
      "=== Generation 6 ===\n",
      "=== Generation 7 ===\n",
      "=== Generation 8 ===\n",
      "=== Generation 9 ===\n",
      "=== Generation 10 ===\n",
      "=== Generation 11 ===\n",
      "=== Generation 12 ===\n",
      "=== Generation 13 ===\n",
      "=== Generation 14 ===\n",
      "=== Generation 15 ===\n",
      "=== Generation 16 ===\n",
      "=== Generation 17 ===\n",
      "=== Generation 18 ===\n",
      "=== Generation 19 ===\n",
      "=== Generation 20 ===\n",
      "=== Generation 21 ===\n",
      "=== Generation 22 ===\n",
      "=== Generation 23 ===\n",
      "=== Generation 24 ===\n",
      "=== Generation 25 ===\n",
      "=== Generation 26 ===\n",
      "=== Generation 27 ===\n",
      "=== Generation 28 ===\n",
      "=== Generation 29 ===\n",
      "=== Generation 30 ===\n",
      "=== Generation 31 ===\n",
      "=== Generation 32 ===\n",
      "=== Generation 33 ===\n",
      "=== Generation 34 ===\n",
      "=== Generation 35 ===\n",
      "=== Generation 36 ===\n",
      "=== Generation 37 ===\n",
      "=== Generation 38 ===\n",
      "=== Generation 39 ===\n",
      "=== Generation 40 ===\n",
      "=== Generation 41 ===\n",
      "=== Generation 42 ===\n",
      "=== Generation 43 ===\n",
      "=== Generation 44 ===\n",
      "=== Generation 45 ===\n",
      "=== Generation 46 ===\n",
      "=== Generation 47 ===\n",
      "=== Generation 48 ===\n",
      "=== Generation 49 ===\n",
      "=== Generation 50 ===\n",
      "=== Generation 51 ===\n",
      "=== Generation 52 ===\n",
      "=== Generation 53 ===\n",
      "=== Generation 54 ===\n",
      "=== Generation 55 ===\n",
      "=== Generation 56 ===\n",
      "=== Generation 57 ===\n",
      "=== Generation 58 ===\n",
      "=== Generation 59 ===\n",
      "=== Generation 60 ===\n",
      "=== Generation 61 ===\n",
      "=== Generation 62 ===\n",
      "=== Generation 63 ===\n",
      "=== Generation 64 ===\n",
      "=== Generation 65 ===\n",
      "=== Generation 66 ===\n",
      "=== Generation 67 ===\n",
      "=== Generation 68 ===\n",
      "=== Generation 69 ===\n",
      "=== Generation 70 ===\n",
      "=== Generation 71 ===\n",
      "=== Generation 72 ===\n",
      "=== Generation 73 ===\n",
      "=== Generation 74 ===\n",
      "=== Generation 75 ===\n",
      "=== Generation 76 ===\n",
      "=== Generation 77 ===\n",
      "=== Generation 78 ===\n",
      "=== Generation 79 ===\n",
      "Running Time:  19236.272900104523\n"
     ]
    }
   ],
   "source": [
    "start = time.time()\n",
    "\n",
    "gfa_80_30, scores_80_30 = genetic_feature_selection(X, y, generation_limit = 80, population_size = 30, mutation = True,elitism = True)\n",
    "\n",
    "end = time.time()\n",
    "\n",
    "print(\"Running Time: \", end - start)"
   ]
  },
  {
   "cell_type": "code",
   "execution_count": 66,
   "id": "93de0090-d724-44f1-b1b0-624a8b84c874",
   "metadata": {},
   "outputs": [
    {
     "name": "stdout",
     "output_type": "stream",
     "text": [
      "Best genome:  [True, False, True, False, False, True, True, False, False, False, True, False, False, True, False]\n",
      "Fitness of best genome:  160.06392347429366\n"
     ]
    }
   ],
   "source": [
    "print(\"Best genome: \", gfa_80_30[0])\n",
    "print(\"Fitness of best genome: \", scores_80_30[-1])"
   ]
  },
  {
   "cell_type": "code",
   "execution_count": 103,
   "id": "699160dc-5364-4b53-a63f-4db51a90c4a6",
   "metadata": {},
   "outputs": [
    {
     "data": {
      "image/png": "[encoded data removed]",
      "text/plain": [
       "<Figure size 432x288 with 1 Axes>"
      ]
     },
     "metadata": {
      "needs_background": "light"
     },
     "output_type": "display_data"
    }
   ],
   "source": [
    "plt.plot([i+1 for i in range(len(scores_80_30))], scores_80_30, color = 'b')\n",
    "plt.xlabel('Generation')\n",
    "plt.ylabel('AIC score')\n",
    "plt.show()"
   ]
  }
 ],
 "metadata": {
  "kernelspec": {
   "display_name": "Python 3",
   "language": "python",
   "name": "python3"
  },
  "language_info": {
   "codemirror_mode": {
    "name": "ipython",
    "version": 3
   },
   "file_extension": ".py",
   "mimetype": "text/x-python",
   "name": "python",
   "nbconvert_exporter": "python",
   "pygments_lexer": "ipython3",
   "version": "3.8.8"
  }
 },
 "nbformat": 4,
 "nbformat_minor": 5
}
